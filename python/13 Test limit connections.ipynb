{
 "cells": [
  {
   "cell_type": "code",
   "execution_count": 1,
   "metadata": {},
   "outputs": [],
   "source": [
    "# All imports should be in first cell\n",
    "import cartopy\n",
    "import imp\n",
    "import matplotlib.pyplot as plt\n",
    "import matplotlib.colors\n",
    "%matplotlib inline\n",
    "import numpy as np\n",
    "import ThinWalls\n",
    "import GMesh"
   ]
  },
  {
   "cell_type": "code",
   "execution_count": 2,
   "metadata": {},
   "outputs": [],
   "source": [
    "imp.reload(ThinWalls);"
   ]
  },
  {
   "cell_type": "code",
   "execution_count": 3,
   "metadata": {},
   "outputs": [],
   "source": [
    "# Colormap for plots\n",
    "cmap = plt.cm.seismic\n",
    "norm = matplotlib.colors.BoundaryNorm(np.linspace(-.5,4.5,6),cmap.N)"
   ]
  },
  {
   "cell_type": "markdown",
   "metadata": {},
   "source": [
    "# 2x2 target grid with 4x4 topographic data containing a test walls"
   ]
  },
  {
   "cell_type": "code",
   "execution_count": 4,
   "metadata": {},
   "outputs": [
    {
     "data": {
      "image/png": "[encoded data removed]",
      "text/plain": [
       "<Figure size 1152x288 with 2 Axes>"
      ]
     },
     "metadata": {
      "needs_background": "light"
     },
     "output_type": "display_data"
    }
   ],
   "source": [
    "ni,nj = 4,4\n",
    "FG = ThinWalls.ThinWalls(lon=np.linspace(0,ni,ni+1), lat=np.linspace(0,nj,nj+1))\n",
    "FG.set_cell_mean( np.zeros((nj,ni)) )\n",
    "FG.set_edge_mean(\n",
    "    np.array(\n",
    "[\n",
    "    [2,0,0,0,1],\n",
    "    [1,0,0,0,2],\n",
    "    [2,0,0,0,1],\n",
    "    [1,0,0,0,2]\n",
    "]),\n",
    "    np.array(\n",
    "[\n",
    "    [1,2,1,2],\n",
    "    [0,0,0,0],\n",
    "    [0,0,0,0],\n",
    "    [0,0,0,0],\n",
    "    [2,1,2,1]\n",
    "])\n",
    ")\n",
    "\n",
    "FG.init_effective_values()\n",
    "\n",
    "plt.figure(figsize=(16,4))\n",
    "ax = plt.subplot(131); plt.colorbar(\n",
    "    FG.plot(ax, norm=norm, cmap=cmap, measure='effective', metric='min'), ax=ax); plt.title('Effective min');\n",
    "GMesh.GMesh(lon=np.linspace(0,ni,ni//2+1), lat=np.linspace(0,nj,nj//2+1)).plot(ax,linecolor='y') # Will be target grid"
   ]
  },
  {
   "cell_type": "code",
   "execution_count": 5,
   "metadata": {},
   "outputs": [
    {
     "data": {
      "image/png": "[encoded data removed]",
      "text/plain": [
       "<Figure size 1152x288 with 2 Axes>"
      ]
     },
     "metadata": {
      "needs_background": "light"
     },
     "output_type": "display_data"
    }
   ],
   "source": [
    "ns = np.array([\n",
    "    [2,0],\n",
    "    [0,3]\n",
    "])\n",
    "ew = np.array([\n",
    "    [0,3],\n",
    "    [2,0]\n",
    "])\n",
    "\n",
    "\n",
    "FG.limit_NS_EW_connections(ns, ew)\n",
    "\n",
    "plt.figure(figsize=(16,4))\n",
    "ax = plt.subplot(131); plt.colorbar(\n",
    "    FG.plot(ax, norm=norm, cmap=cmap, measure='effective', metric='min'), ax=ax); plt.title('Effective min');\n",
    "GMesh.GMesh(lon=np.linspace(0,ni,ni//2+1), lat=np.linspace(0,nj,nj//2+1)).plot(ax,linecolor='y') # Will be target grid"
   ]
  },
  {
   "cell_type": "code",
   "execution_count": 6,
   "metadata": {},
   "outputs": [
    {
     "data": {
      "image/png": "[encoded data removed]",
      "text/plain": [
       "<Figure size 1152x288 with 2 Axes>"
      ]
     },
     "metadata": {
      "needs_background": "light"
     },
     "output_type": "display_data"
    }
   ],
   "source": [
    "sw = np.array([\n",
    "    [3,0],\n",
    "    [0,0]\n",
    "])\n",
    "se = np.array([\n",
    "    [0,4],\n",
    "    [0,0]\n",
    "])\n",
    "nw = np.array([\n",
    "    [0,0],\n",
    "    [3,0]\n",
    "])\n",
    "ne = np.array([\n",
    "    [0,0],\n",
    "    [0,4]\n",
    "])\n",
    "\n",
    "FG.limit_corner_connections(sw, se, ne, nw)\n",
    "\n",
    "plt.figure(figsize=(16,4))\n",
    "ax = plt.subplot(131); plt.colorbar(\n",
    "    FG.plot(ax, norm=norm, cmap=cmap, measure='effective', metric='min'), ax=ax); plt.title('Effective min');\n",
    "GMesh.GMesh(lon=np.linspace(0,ni,ni//2+1), lat=np.linspace(0,nj,nj//2+1)).plot(ax,linecolor='y') # Will be target grid"
   ]
  }
 ],
 "metadata": {
  "kernelspec": {
   "display_name": "Python 3",
   "language": "python",
   "name": "python3"
  },
  "language_info": {
   "codemirror_mode": {
    "name": "ipython",
    "version": 3
   },
   "file_extension": ".py",
   "mimetype": "text/x-python",
   "name": "python",
   "nbconvert_exporter": "python",
   "pygments_lexer": "ipython3",
   "version": "3.6.7"
  }
 },
 "nbformat": 4,
 "nbformat_minor": 1
}
